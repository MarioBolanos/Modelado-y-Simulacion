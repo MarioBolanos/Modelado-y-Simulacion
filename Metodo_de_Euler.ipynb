{
  "nbformat": 4,
  "nbformat_minor": 0,
  "metadata": {
    "kernelspec": {
      "display_name": "Python 3",
      "language": "python",
      "name": "python3"
    },
    "language_info": {
      "codemirror_mode": {
        "name": "ipython",
        "version": 3
      },
      "file_extension": ".py",
      "mimetype": "text/x-python",
      "name": "python",
      "nbconvert_exporter": "python",
      "pygments_lexer": "ipython3",
      "version": "3.7.3"
    },
    "colab": {
      "name": "Metodo de Euler.ipynb",
      "provenance": [],
      "include_colab_link": true
    }
  },
  "cells": [
    {
      "cell_type": "markdown",
      "metadata": {
        "id": "view-in-github",
        "colab_type": "text"
      },
      "source": [
        "<a href=\"https://colab.research.google.com/github/MarioBolanos/Modelado2020_2/blob/master/Metodo_de_Euler.ipynb\" target=\"_parent\"><img src=\"https://colab.research.google.com/assets/colab-badge.svg\" alt=\"Open In Colab\"/></a>"
      ]
    },
    {
      "cell_type": "markdown",
      "metadata": {
        "id": "7Iz-cLmL5KRf",
        "colab_type": "text"
      },
      "source": [
        "\n",
        "# Implementación simple del método de Euler\n",
        "\n",
        "\n"
      ]
    },
    {
      "cell_type": "markdown",
      "metadata": {
        "id": "8Tzw9rck5KRg",
        "colab_type": "text"
      },
      "source": [
        "## Introducción\n",
        "\n",
        "\n",
        "#Métodos numéricos para ecuaciones diferenciales ordinarias.\n",
        "\n",
        "Muchas ecuaciones diferenciales no pueden resolverse mediante el cálculo simbólico (\"análisis\"). Sin embargo, para fines prácticos, como en ingeniería, una aproximación numérica a la solución a menudo es suficiente. \n",
        "\n",
        "Las ecuaciones diferenciales constituyen una de las herramientas matemáticas más poderosas para comprender y predecir el comportamiento de los sistemas dinámicos en la naturaleza, la ingeniería y la sociedad. Un sistema dinámico es un sistema con algún estado, generalmente expresado por un conjunto de variables, que evoluciona en el tiempo. Por ejemplo, un péndulo oscilante, la propagación de una enfermedad y el clima son ejemplos de sistemas dinámicos.\n",
        "\n",
        "En todo tipo de ciencias naturales, encontramos ecuaciones diferenciales. Estas ecuaciones pueden ser bastante complicadas de resolver analíticamente y la mayoría de las veces no existe una solución analítica.\n",
        "\n",
        "El propósito de este cuaderno es simplemente demostrar __cómo__ se puede resolver una EDO. No nos centraremos en la teoría detrás del método de Euler, nos centraremos únicamente en la __implementación__ de nuestro solucionador de ODE. \n",
        "\n",
        "Los modelos más toscos para modelar el crecimiento bacteriano son una excelente opción para demostrar el método de Euler, ya que la ecuación diferencial que rige este crecimiento es bastante simple."
      ]
    },
    {
      "cell_type": "markdown",
      "metadata": {
        "id": "nSWO1pIt5KRg",
        "colab_type": "text"
      },
      "source": [
        "## Teoría\n",
        "\n",
        "### Crecimiento de la población\n",
        "Antes de comenzar a programar, daremos una breve introducción al crecimiento bacteriano. Las bacterias se reproducen por fisión binaria. Este es un proceso en el que una sola célula bacteriana se divide en dos, creando dos células bacterianas. Las dos nuevas células bacterianas pueden volver a dividirse en dos, creando así cuatro células bacterianas. En realidad, una sola célula bacteriana solo puede dividirse en dos una cierta cantidad de veces, pero en nuestro proyecto modelamos nuestra tasa de crecimiento como si este no fuera el caso.\n",
        "\n",
        "Entonces podemos escribir nuestra ecuación diferencial como\n",
        "\n",
        "\\begin{equation}\n",
        "\\frac{dy}{dt} = ky(t),\\tag{1}\n",
        "\\end{equation}\n",
        "\n",
        "donde $ y (t) $ es la población $ y $ en el momento $ t $, y $ k $ es una constante de proporcionalidad. Si usamos días como unidad de tiempo y asumimos que el tamaño de la población en $ t = 1 $ es el doble del tamaño de la población en $ t = 0 $\n",
        "\n",
        "\\begin{equation}\n",
        "y(1) = 2y(0) \\tag{2},\n",
        "\\end{equation}\n",
        "\n",
        "podemos resolver la ecuación diferencial analíticamente. Combinando las ecuaciones $ (1) $ y $ (2) $, obtenemos\n",
        "\n",
        "\\begin{equation}\n",
        "y(t) = \\mathrm{e}^{kt} = \\mathrm{e}^{\\mathrm{ln}(2)t} = 2^{t}. \\tag{3}\n",
        "\\end{equation}\n",
        "\n",
        "La ecuación $ (3) $ describe completamente el tamaño de la población en el momento $ t $.\n",
        "\n",
        "### Método de Euler\n",
        "Este párrafo intentará transmitir la mínima teoría sobre el método de Euler. Sin embargo, estos párrafos deberían ser suficientes para la implementación.\n",
        "\n",
        "En primer lugar, al resolver ecuaciones diferenciales numéricamente, necesitamos __discretizar__ nuestra variable de tiempo $ t $. Por tanto,$ t $ ya no es una variable continua, en su lugar escribimos\n",
        "\n",
        "$$\n",
        "t_n = t_0 + nh, \\quad \\mathrm{with} \\quad n = 0, 1, 2,..., N,\n",
        "$$\n",
        "\n",
        "donde $ t_0 $ es el valor de tiempo donde conocemos el tamaño de nuestra __población inicial__, y $ h $ es el tamaño entre valores de tiempo discretos adyacentes. La relación entre $ N $ y $ h $ está dada por\n",
        "\n",
        "$$\n",
        "h = \\frac{t_N - t_0}{N},\n",
        "$$\n",
        "\n",
        "donde $ N $ es el número de puntos de tiempo discretos que tenemos en nuestra simulación, mientras que $ t_N $ y denotan el valor de tiempo más grande que tenemos en nuestra simulación.\n",
        "\n",
        "En general, nuestra aproximación numérica será mejor si elegimos $ h $ pequeños. Observe que a medida que disminuye el tamaño de $ h $, aumenta el número de valores de tiempo discretos entre $ t_0 $ y $ t_N $. Pagamos por el aumento de la precisión de nivel aumentando el número de cálculos necesarios, aumentando así el tiempo de ejecución de nuestro programa.\n",
        "\n",
        "Una ecuación diferencial de primer orden sin dependencia explícita del tiempo se puede escribir en la forma más general\n",
        "\n",
        "\\begin{equation}\n",
        "\\frac{dy}{dt} = g(y),\n",
        "\\tag{4}\n",
        "\\end{equation}\n",
        "\n",
        "donde $ g (y) $ es la ecuación que gobierna la tasa de cambio de nuestra función $ y (t) $. En nuestro caso, $ g (y) = ky $.\n",
        "\n",
        "Si conocemos el tamaño de la población en $ t_0 $ y denotamos este valor como $ y_0 $, podemos usar el método de Euler para encontrar una aproximación del tamaño de la población en $ t_1 = t_0 + h $. El tamaño de la población en $ t_1 $ se denota como $ y_1 $. Esta aproximación se puede calcular mediante la fórmula\n",
        "\n",
        "$$\n",
        "y_1 = y_0 + hg(y_0).\n",
        "$$\n",
        "\n",
        "Ahora, para encontrar el tamaño de la población $ y_2 $ en $ t_2 = t_1 + h = t_0 + 2h $, usamos la misma fórmula, pero con $ y_1 $ en lugar de $ y_0 $\n",
        "\n",
        "$$\n",
        "y_2 = y_1 + h g(y_1).\n",
        "$$\n",
        "\n",
        "La forma más general del método de Euler se escribe como\n",
        "\n",
        "$$\n",
        "y_{n+1} = y_n + h g(y_n),\n",
        "\\tag{5}\n",
        "$$\n",
        "donde tenemos la condición inicial de que\n",
        "$$\n",
        "y(t_0) = y_0.\n",
        "$$\n",
        "\n",
        "Ahora podemos implementar el método de Euler en Python y comparar nuestros resultados numéricos con la solución analítica dada en la ecuación $ (3) $.\n",
        "\n",
        "## Implementación"
      ]
    },
    {
      "cell_type": "code",
      "metadata": {
        "id": "wfBzttYkCqvH",
        "colab_type": "code",
        "colab": {}
      },
      "source": [
        "#importar librerias\n",
        "\n",
        "import numpy as np\n",
        "import matplotlib.pyplot as plt\n",
        "\n",
        "%matplotlib inline"
      ],
      "execution_count": 4,
      "outputs": []
    },
    {
      "cell_type": "code",
      "metadata": {
        "id": "DGGQS0iWDQRu",
        "colab_type": "code",
        "colab": {}
      },
      "source": [
        "def euler_sig(yn,h,f):\n",
        "  y_next=yn+h*f(yn)\n",
        "  return y_next\n",
        "\n",
        "def euler (y0,h,fun,t_ini,t_fin):\n",
        "  N=int((t_fin-t_ini)/h)\n",
        "  t=np.linspace(t_ini,t_fin,N+1)\n",
        "\n",
        "  y=np.zeros(N+1)\n",
        "  y[0]=y0\n",
        "\n",
        "  for i in range (0,N):\n",
        "    y[i+1]=euler_sig(y[i],h,fun)\n",
        "\n",
        "  return t,y\n",
        "\n"
      ],
      "execution_count": 5,
      "outputs": []
    },
    {
      "cell_type": "code",
      "metadata": {
        "id": "1Olsta2MFvjc",
        "colab_type": "code",
        "colab": {
          "base_uri": "https://localhost:8080/",
          "height": 283
        },
        "outputId": "9b582382-1951-44d9-bf69-c4b760361c09"
      },
      "source": [
        "def g(y):\n",
        "  crecimiento=np.log(2)*y\n",
        "  return crecimiento\n",
        "\n",
        "# Valores de variables\n",
        "h=0.001\n",
        "t_ini=0\n",
        "t_fin=10\n",
        "y_ini=1\n",
        "\n",
        "#Sistema numérico\n",
        "t,y=euler(y_ini,h,g,t_ini,t_fin)\n",
        "plt.plot(t,y, label='numérica')\n",
        "\n",
        "#Sistema análitico \n",
        "plt.plot(t,np.power(2,t), label='análitica')\n",
        "\n",
        "plt.legend()\n",
        "plt\n",
        "\n",
        "last_num=y[-1]\n",
        "last_an=np.power(2,t[-1])\n",
        "\n",
        "print('el error del método para un h= {} es de {}'.format(h,(last_an-last_num)))"
      ],
      "execution_count": 6,
      "outputs": [
        {
          "output_type": "stream",
          "text": [
            "el error del método para un h= 0.001 es de 2.455833698416086\n"
          ],
          "name": "stdout"
        },
        {
          "output_type": "display_data",
          "data": {
            "image/png": "[encoded data removed]",
            "text/plain": [
              "<Figure size 432x288 with 1 Axes>"
            ]
          },
          "metadata": {
            "tags": [],
            "needs_background": "light"
          }
        }
      ]
    },
    {
      "cell_type": "markdown",
      "metadata": {
        "id": "zMYwmku05KRn",
        "colab_type": "text"
      },
      "source": [
        "Ahora que tenemos nuestras funciones definidas, podemos simular la población bacteriana. Solo necesitamos definir nuestro RHS (lado derecho) de nuestra ecuación diferencial, que en la parte de la teoría denotamos como $ g (y) $."
      ]
    },
    {
      "cell_type": "markdown",
      "metadata": {
        "id": "v2jF5QEM5KRs",
        "colab_type": "text"
      },
      "source": [
        "Vemos que a nuestro modelo le va bastante bien con un tamaño de paso $ h = 0.0\n",
        "1 $, ya que solo se desvía de la solución analítica en 24 células bacterianas, o 2,4%. Al elegir un $ h $ más pequeño, podríamos aumentar la precisión de nuestro resultado. Por ejemplo, eligiendo $ h = 0.001 $, solo obtendríamos una desviación de 2.4 células bacterianas, o 0.24%.\n",
        "\n",
        "El lector podría preguntarse por qué querríamos usar el método de Euler en este caso, ya que tenemos una solución analítica perfectamente fina. Esta ecuación diferencial tiene una solución analítica, sin embargo, este no es siempre el caso. Solo elegimos este ejemplo porque podemos comparar nuestros resultados numéricos con la respuesta correcta, y así validar nuestro procedimiento. Cambiar nuestra ecuación inicial para el crecimiento, ecuación $ (5) $, a algo llamado modelo de crecimiento logístico en el formulario\n",
        "\n",
        "\\begin{equation}\n",
        "\\frac{dy}{dt} = ky(1 - \\frac{y}{m}),\n",
        "\\tag{6}\n",
        "\\end{equation}\n",
        "\n",
        "donde $ m $ es una constante, no podemos resolver esta ecuación analíticamente. Sin embargo, ¡todavía podemos usar el método de Euler!"
      ]
    },
    {
      "cell_type": "code",
      "metadata": {
        "id": "1Lfe--fj5KRt",
        "colab_type": "code",
        "colab": {
          "base_uri": "https://localhost:8080/",
          "height": 283
        },
        "outputId": "87276834-9cbc-4fed-97d6-1bc3102f5d69"
      },
      "source": [
        "def r(y):\n",
        "  k=2\n",
        "  m=100\n",
        "  crecimiento=k*y*(1-y/m)\n",
        "  return crecimiento\n",
        "\n",
        "# Valores de variables\n",
        "h=0.001\n",
        "t_ini=0\n",
        "t_fin=10\n",
        "y_ini=0.1\n",
        "\n",
        "#Sistema numérico\n",
        "t,y=euler(y_ini,h,r,t_ini,t_fin)\n",
        "plt.plot(t,y, label='numérica')\n",
        "\n",
        "plt.legend()\n"
      ],
      "execution_count": 9,
      "outputs": [
        {
          "output_type": "execute_result",
          "data": {
            "text/plain": [
              "<matplotlib.legend.Legend at 0x7fed5f0037b8>"
            ]
          },
          "metadata": {
            "tags": []
          },
          "execution_count": 9
        },
        {
          "output_type": "display_data",
          "data": {
            "image/png": "[encoded data removed]",
            "text/plain": [
              "<Figure size 432x288 with 1 Axes>"
            ]
          },
          "metadata": {
            "tags": [],
            "needs_background": "light"
          }
        }
      ]
    },
    {
      "cell_type": "markdown",
      "metadata": {
        "id": "yYuTx6735KRv",
        "colab_type": "text"
      },
      "source": [
        "Este gráfico ilustra perfectamente la esencia del método de Euler y las soluciones numéricas de las EDO en general. Aunque no tenemos una solución analítica para validar nuestros resultados, aún podemos extraer información importante de nuestros resultados numéricos y validar los resultados a través de argumentos físicos. La constante $ m $ en $ (6) $ se llama capacidad de carga, el nombre se manifiesta en nuestra gráfica, ya que observamos que la población aumenta exponencialmente los primeros cinco días, pero luego parece converger hacia 100 bacterias después de 8 días. . Físicamente, una posible explicación podría ser que nuestro sistema solo tiene los recursos para mantener una población de 100 bacterias, y que más bacterias morirían.\n",
        "\n",
        "\n",
        "\n",
        "## Conclusión\n",
        "Aunque el método de Euler es muy simple de implementar, sigue siendo una herramienta poderosa para resolver EDO. En este cuaderno hemos utilizado el método de Euler para resolver la ecuación diferencial que gobierna el crecimiento de la población en una colonia bacteriana, pero la implementación también se puede utilizar para resolver cualquier EDO sin dependencia temporal explícita. "
      ]
    },
    {
      "cell_type": "markdown",
      "metadata": {
        "id": "Pp6T5HTHPw3T",
        "colab_type": "text"
      },
      "source": [
        "**Ejemplo Ley de enfriamiento de Newton:**\n",
        "\n",
        "Esta ley describe como un objeto con temperatura inicial de $T_{t=0}=T_0$ se enfria en un ambiente de temperatura $T_R$"
      ]
    },
    {
      "cell_type": "code",
      "metadata": {
        "id": "btDFs9oBQbMY",
        "colab_type": "code",
        "colab": {}
      },
      "source": [
        "import matplotlib.style\n",
        "matplotlib.style.use('classic')\n",
        "import numpy as np\n",
        "from matplotlib import pyplot as plt"
      ],
      "execution_count": 10,
      "outputs": []
    },
    {
      "cell_type": "code",
      "metadata": {
        "id": "7vTMDDqhP2WB",
        "colab_type": "code",
        "colab": {}
      },
      "source": [
        "def euler( derivadas, h, tini, tfin, x0, params ):\n",
        "    ti = tini  \n",
        "    xi = x0\n",
        "  \n",
        "    x = list()\n",
        "    t = list()\n",
        "  \n",
        "    while ( ti < tfin ):\n",
        "    \n",
        "      x.append (xi)\n",
        "      t.append (ti)\n",
        "  \n",
        "      xi = xi + h*derivadas(ti,xi,params)\n",
        "      ti = ti + h\n",
        "    return t, x   "
      ],
      "execution_count": 11,
      "outputs": []
    },
    {
      "cell_type": "markdown",
      "metadata": {
        "id": "6xMQWfPTQDeV",
        "colab_type": "text"
      },
      "source": [
        "Ex 1. Comparación de métodos\n",
        "Dada la ecuación diferencial:\n",
        "\n",
        "x˙=ax \n",
        "\n",
        "Siendo  a∈R  una constante cualquiera. Grafique la solución analítica y las aproximaciones numéricas obtenidas con el método de Euler y con el método RK4.\n",
        "\n",
        "Varíe el paso de integración  h  a fin de observar cómo varía la precisión de los resultados numéricos a medida que éste se hace más pequeño."
      ]
    },
    {
      "cell_type": "code",
      "metadata": {
        "id": "Mz48fgMuQKL-",
        "colab_type": "code",
        "colab": {}
      },
      "source": [
        "def sistema_1(t, x, a):\n",
        "    x_dot = a*x\n",
        "    return x_dot"
      ],
      "execution_count": 12,
      "outputs": []
    },
    {
      "cell_type": "code",
      "metadata": {
        "id": "HHa0tSlWQLD3",
        "colab_type": "code",
        "colab": {
          "base_uri": "https://localhost:8080/",
          "height": 459
        },
        "outputId": "6fc56aab-f635-49f7-d693-5edac4132e63"
      },
      "source": [
        "a = 1\n",
        "h = 0.1\n",
        "tini = 0\n",
        "tfin = 10\n",
        "x0 = 1\n",
        "r=5\n",
        "\n",
        "t = np.linspace(0,10,1001)\n",
        "x = x0*np.exp(a*t)\n",
        "\n",
        "t1,x1 = euler( sistema_1, h, tini, tfin, x0, a )\n",
        "#t2,x2 = rk4( sistema_1, h, tini, tfin, x0, a )\n",
        "\n",
        "\n",
        "plt.figure()\n",
        "# gráfica de analítica:\n",
        "plt.plot(  t, x, 'black', label = 'Analytical', linewidth = 2)\n",
        "# gráfica de euler:\n",
        "plt.scatter( t1, x1, c = 'crimson', label = 'Euler', s = 50)\n",
        "# gráfica de rk4:\n",
        "#plt.scatter( t2, x2, c = 'royalblue', label = 'RK4', s = 50)\n",
        "\n",
        "plt.xlim([0, 2])\n",
        "plt.ylim([-0, 4])\n",
        "plt.xlabel(r'$t$')\n",
        "plt.grid()\n",
        "plt.legend(loc = 'best')\n",
        "plt.show()"
      ],
      "execution_count": 14,
      "outputs": [
        {
          "output_type": "display_data",
          "data": {
            "image/png": "[encoded data removed]",
            "text/plain": [
              "<Figure size 640x480 with 1 Axes>"
            ]
          },
          "metadata": {
            "tags": []
          }
        }
      ]
    }
  ]
}