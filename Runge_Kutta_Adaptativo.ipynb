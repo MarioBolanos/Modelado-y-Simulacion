{
  "nbformat": 4,
  "nbformat_minor": 0,
  "metadata": {
    "kernelspec": {
      "display_name": "Python 3",
      "language": "python",
      "name": "python3"
    },
    "language_info": {
      "codemirror_mode": {
        "name": "ipython",
        "version": 3
      },
      "file_extension": ".py",
      "mimetype": "text/x-python",
      "name": "python",
      "nbconvert_exporter": "python",
      "pygments_lexer": "ipython3",
      "version": "3.5.4"
    },
    "colab": {
      "name": "Runge-Kutta-Adaptativo.ipynb",
      "provenance": [],
      "include_colab_link": true
    }
  },
  "cells": [
    {
      "cell_type": "markdown",
      "metadata": {
        "id": "view-in-github",
        "colab_type": "text"
      },
      "source": [
        "<a href=\"https://colab.research.google.com/github/MarioBolanos/Modelado2020_2/blob/master/Runge_Kutta_Adaptativo.ipynb\" target=\"_parent\"><img src=\"https://colab.research.google.com/assets/colab-badge.svg\" alt=\"Open In Colab\"/></a>"
      ]
    },
    {
      "cell_type": "markdown",
      "metadata": {
        "id": "aRtVnsEcn06s"
      },
      "source": [
        "# Métodos adaptativos de Runge-Kutta\n",
        "\n",
        "___\n",
        "\n",
        "\n",
        "Este módulo ofrece una breve introducción al concepto de \"métodos adaptativos de tamaño de paso\" y \"pares integrados de Runge-Kutta\" para resolver ecuaciones diferenciales ordinarias (EDO). Vamos a resolver EDO de primer orden de la forma\n",
        "\n",
        "$$\n",
        "\\frac {\\text{d}} {\\text{d} t} y (t) = f (y (t), t).\n",
        "$$\n",
        "\n",
        "Es conveniente considerar el parámetro $ t $ como \"tiempo\" y $ y $ como \"posición\" en el tiempo $ t $. El concepto de tamaño de paso adaptativo se generaliza fácilmente para EDO de orden superior, de la misma manera que el método Euler explícito menos sofisticado se puede generalizar al método de Runge-Kutta (de cuarto orden).\n",
        "\n",
        "### Idea básica de los métodos adaptativos de Runge-Kutta\n",
        "Un método adaptativo de Runge-Kutta es un método que utiliza dos órdenes de aproximación diferentes (a menudo uno con orden $ p $ y otro con orden $ p + 1 $) para obtener una estimación del error de truncamiento local. Por lo tanto, es posible decidir más o menos qué precisión queremos que tenga la solución cambiando el tamaño del paso para cada iteración. Otra ventaja de los métodos de tamaño de paso adaptativo es que podemos tener más pasos donde sea necesario y menos pasos en otros lugares (a continuación se muestra un ejemplo). Sin embargo, como es evidente, estos métodos suelen requerir más cálculos.\n",
        "\n",
        "Siguiendo esta idea, podemos desarrollar fácilmente pares de métodos de Runge-Kutta (RK) (uno con orden $ p $ y otro con orden $ p + 1 $) que comparten varios de los cálculos necesarios. Esto nos permite estimar el error de truncamiento local casi sin cálculos adicionales. Estos pares se denominan $ \\textbf{pares de Runge-Kutta incrustados} $.\n",
        "\n",
        "Primero, importamos las bibliotecas necesarias y establecemos algunos parámetros de figuras comunes."
      ]
    },
    {
      "cell_type": "code",
      "metadata": {
        "id": "gq9clUMjn06t"
      },
      "source": [
        "# Import libraries\n",
        "import numpy as np\n",
        "import matplotlib.pyplot as plt\n",
        "import time\n",
        "%matplotlib inline\n",
        "\n",
        "# Set common figure parameters\n",
        "newparams = {'figure.figsize': (10, 4), 'axes.grid': True,\n",
        "             'lines.linewidth': 1.5, 'lines.markersize': 10,\n",
        "             'font.size': 14}\n",
        "plt.rcParams.update(newparams)"
      ],
      "execution_count": 15,
      "outputs": []
    },
    {
      "cell_type": "markdown",
      "metadata": {
        "id": "TXHtpmtGn060"
      },
      "source": [
        "### Implementar funciones\n",
        "\n",
        "Es hora de definir algunas funciones que van a calcular dos órdenes de aproximación diferentes para el lado derecho (RHS) de la EDO, a saber $ f (y (t), t) $. Las siguientes funciones son algunos ejemplos de métodos adaptativos de Runge-Kutta. En [2] se proporciona un algoritmo para derivar estos métodos."
      ]
    },
    {
      "cell_type": "code",
      "metadata": {
        "id": "2_LJwoaHn061"
      },
      "source": [
        "def odesolver12(f, t, y, h):\n",
        "    \"\"\"Calcule el siguiente paso de un problema de valor inicial (PVI) de\n",
        "    una EDO con un RHS descrito por f, con un orden 1 aprox.\n",
        "    (Método Eulers) y un pedido 2 aprox. (Regla del punto medio). Esto es\n",
        "    el par RK integrado más simple.\n",
        "    Parámetros:\n",
        "        f: función. RHS de ODE.\n",
        "        t: Tiempo actual.\n",
        "        y: Posición actual.\n",
        "        h: Tamaño de paso.\n",
        "    Devoluciones:\n",
        "        q: aprox de orden 1.\n",
        "        w: aprox de orden 2\n",
        "     \"\"\"\n",
        "\n",
        "    s1 = f(t, y)\n",
        "    s2 = f(t+h, y+h*s1)\n",
        "    w = y + h*s1\n",
        "    q = y + h/2.0*(s1+s2)\n",
        "    return w, q\n",
        "\n",
        "def odesolver23(f, t, y, h):\n",
        "    \"\"\" Calcule el siguiente paso de un IVP de una EDO con un RHS\n",
        "    descrito por f, con un orden 2 aprox. (Trapecio explícito\n",
        "    Método) y un pedido de 3 aprox. (RK de tercer orden).\n",
        "    Parámetros:\n",
        "        f: función. RHS de ODE.\n",
        "        t: Tiempo actual.\n",
        "        y: Posición actual.\n",
        "        h: Tamaño de paso.\n",
        "    Devoluciones:\n",
        "        q: aprox de orden 2\n",
        "        w: aprox de orden 3\n",
        "    \"\"\"\n",
        "    s1 = f(t, y)\n",
        "    s2 = f(t+h, y+h*s1)\n",
        "    s3 = f(t+h/2.0, y+h*(s1+s2)/4.0)\n",
        "    w = y + h*(s1+s2)/2.0\n",
        "    q = y + h*(s1+4.0*s3+s2)/6.0\n",
        "    return w, q\n",
        "\n",
        "def odesolver45(f, t, y, h):\n",
        "    \"\"\" calcula el siguiente paso de un IVP de una EDO con un RHS\n",
        "    descrito por f, con un orden 4 aprox. y un pedido de 5 aprox.\n",
        "    Parámetros:\n",
        "        f: función. RHS de ODE.\n",
        "        t:  Tiempo actual.\n",
        "        y:  Posición actual.\n",
        "        h:  Longitud del paso.\n",
        "    Devoluciones:\n",
        "        q: aprox de orden 4\n",
        "        w: aprox de orden 5\n",
        "    \"\"\"\n",
        "    s1 = f(t, y)\n",
        "    s2 = f(t+h/4.0, y+h*s1/4.0)\n",
        "    s3 = f(t+3.0*h/8.0, y+3.0*h*s1/32.0+9.0*h*s2/32.0)\n",
        "    s4 = f(t+12.0*h/13.0, y+1932.0*h*s1/2197.0-7200.0*h*s2/2197.0+7296.0*h*s3/2197.0)\n",
        "    s5 = f(t+h, y+439.0*h*s1/216.0-8.0*h*s2+3680.0*h*s3/513.0-845.0*h*s4/4104.0)\n",
        "    s6 = f(t+h/2.0, y-8.0*h*s1/27.0+2*h*s2-3544.0*h*s3/2565+1859.0*h*s4/4104.0-11.0*h*s5/40.0)\n",
        "    w = y + h*(25.0*s1/216.0+1408.0*s3/2565.0+2197.0*s4/4104.0-s5/5.0)\n",
        "    q = y + h*(16.0*s1/135.0+6656.0*s3/12825.0+28561.0*s4/56430.0-9.0*s5/50.0+2.0*s6/55.0)\n",
        "    return w, q"
      ],
      "execution_count": 16,
      "outputs": []
    },
    {
      "cell_type": "markdown",
      "metadata": {
        "id": "wW6p6qpun066"
      },
      "source": [
        "### Decidir el tamaño del paso adaptativo\n",
        "\n",
        "En las definiciones de funciones anteriores, $ w $ representa la aproximación de orden más bajo y $ q $ la aproximación de orden superior. Cuando $ h $ es pequeño, una buena estimación de error para $ w $ es\n",
        "\n",
        "$$\n",
        "e_ {i + 1} \\approx\\left | q_ {i + 1} -w_ {i + 1} \\right |.\n",
        "$$\n",
        "\n",
        "La idea es que uno puede realizar un paso del cálculo y luego verificar el error estimado $ e_i $, o el error relativo $ e_i / \\left | w_i \\right | $. Si el error es mayor que una tolerancia elegida, $ TOL $, el tamaño del paso se reduce en una cantidad predefinida, a menudo configurada para duplicar o reducir a la mitad el tamaño del paso.\n",
        "\n",
        "Siempre queremos minimizar nuestro uso de recursos computacionales, pero aún estar dentro de la tolerancia dada. Por lo tanto, sería una buena idea cambiar el tamaño del paso para el siguiente paso solo si, por ejemplo, el error del paso actual es menor que $ TOL / 20 $. Sin embargo, existen formas más sofisticadas de cambiar el tamaño del paso.\n",
        "\n",
        "Si dejamos que la tolerancia esté dada por el error relativo, $ TOL> e_i / \\left | w_i \\right | $, y asumimos que $ w $ es del orden $ p $, el error viene dado por $ e_i = \\mathcal { O} (h ^ {p + 1}) $. Suponiendo que\n",
        "\n",
        "$$\n",
        "e_i \\approx \\xi h_i ^ {p + 1},\n",
        "$$\n",
        "\n",
        "para un $\\xi $ constante, el tamaño de paso más cercano a la tolerancia viene dado por\n",
        "\n",
        "$$\n",
        "TOL \\cdot \\left | w_i \\right | = \\xi h ^ {p + 1}.\n",
        "$$\n",
        "\n",
        "Esto produce\n",
        "\n",
        "$$\n",
        "\\tilde h = \\left (\\frac {TOL \\cdot | w_i |} {e_i} \\right) ^ {1 / {p + 1}} h_i,\n",
        "$$\n",
        "\n",
        "donde $ \\tilde h $ es el valor ideal para el siguiente tamaño de paso. Sin embargo, a menudo se agrega un factor de seguridad, de modo que el siguiente tamaño de paso pasa a ser, por ejemplo, $ h_ {i + 1} = 0.8 \\cdot \\tilde h $. Además, a menudo usamos $ e_i / \\max (w_i, \\theta) $ $ (\\theta> 0) $ en lugar del error relativo para proteger contra $ w_i $ pequeños.\n",
        "\n",
        "Este algoritmo para la variación del tamaño del paso se deriva de $ w_i $, la aproximación de orden más baja. Sin embargo, dado que la aproximación de orden superior $ q_i $ está disponible (sin cálculo adicional), a menudo se usa para evaluar el siguiente paso.\n",
        "\n",
        "La forma más sencilla de visualizar el método de tamaño de paso adaptativo es con ejemplos.\n",
        "\n",
        "### Ejemplo 1\n",
        "Primero elegimos el RHS de la ODE para que sea\n",
        "\n",
        "$$\n",
        "f (y (t), t) = t - 2ty,\n",
        "$$\n",
        "\n",
        "que tiene la solución analítica $ \\frac {1} {2} (1-e ^ {- t ^ 2}) $. Definamos estas funciones y sigamos resolviendo la EDO usando el método RK incrustado más simple con una aproximación de orden 1 y orden 2. Generalizamos la implementación del método adaptativo RK para no repetirnos."
      ]
    },
    {
      "cell_type": "code",
      "metadata": {
        "id": "CK4xsNbvn067"
      },
      "source": [
        "def RHS1(t, y):\n",
        "    return t - 2*t*y\n",
        "\n",
        "def analytical(t, y):\n",
        "    return 0.5*(1-np.exp(-t**2))\n",
        "\n",
        "def rk_adaptive(ode, rhs, y0=0.0, t0=0.0, TOL=1e-04, theta=1e-02, tmax=1.0):\n",
        "    \"\"\" Realice un método RK adaptativo.\n",
        "    Parámetros:\n",
        "        oda: función. Solucionador de ODE.\n",
        "        rhs:  RHS de ODE.\n",
        "        y0:  opcional. Posición inicial.\n",
        "        t0:  opcional. Tiempo inicial.\n",
        "        TOL:  opcional. Tolerancia al error relativo.\n",
        "        theta:  opcional. Constante \"protectora\".\n",
        "        tmax:  opcional. Fin del intervalo de cálculo.\n",
        "    Devoluciones:\n",
        "        y:  Posición.\n",
        "        t:  Hora.\n",
        "        yo: Numero de iteraciones\n",
        "    \"\"\"\n",
        "    \n",
        "    # Asignar listas para almacenar posición y hora y configurar\n",
        "    # condiciones iniciales.\n",
        "    y = []\n",
        "    t = []\n",
        "    y.append(y0)\n",
        "    t.append(t0)\n",
        "    \n",
        "    # Establecer el tamaño del paso inicial y declarar el número entero de iteración\n",
        "    h = 1.0\n",
        "    i = 0\n",
        "    \n",
        "    while (t[i] < tmax):\n",
        "        # Obtenga dos aproximaciones diferentes\n",
        "        w, q = ode(rhs, t[i], y[i], h)\n",
        "        # Estimación de error\n",
        "        e = abs((w-q)/max(w, theta))\n",
        "        # Si es mayor que TOL, disminuya la longitud del paso\n",
        "        if (e > TOL):\n",
        "            h = 0.8*(TOL*e)**(1/5)*h\n",
        "            # Obtenga dos nuevas aproximaciones\n",
        "            w, q = ode(rhs, t[i], y[i], h)\n",
        "            # Estimar nuevo error\n",
        "            e = abs((w-q)/max(w, theta))\n",
        "            # Si aún es mayor que TOL, reduzca a la mitad la longitud del paso hasta que sea menor\n",
        "            while (e > TOL):\n",
        "                h = h/2.0\n",
        "                # Nuevas aproximaciones\n",
        "                w, q = ode(rhs, t[i], y[i], h)\n",
        "                # Nueva estimación de error\n",
        "                e = abs((w-q)/max(w, theta))\n",
        "        # Almacene la aproximación de orden más alto como el siguiente valor y\n",
        "        y.append(q)\n",
        "        # Almacene el tiempo actual + tamaño de paso como la próxima vez\n",
        "        t.append(t[i] + h)\n",
        "        # Incrementar el número de paso\n",
        "        i += 1\n",
        "        # Compruebe si e es demasiado pequeño, si es así, tamaño de paso doble\n",
        "        if (e < 0.1*TOL):\n",
        "            h = h*2.0\n",
        "    \n",
        "    return y, t, i"
      ],
      "execution_count": 17,
      "outputs": []
    },
    {
      "cell_type": "code",
      "metadata": {
        "id": "hyYjzcSTn06-"
      },
      "source": [
        "# Calcule la posición en función del tiempo usando el \n",
        "# Runge-Kutta adaptativo odesolver12 definido arriba\n",
        "pos, times, iterations = rk_adaptive(odesolver45, RHS1, y0=0.0, t0=0.0, TOL=1e-02, theta=1e-03, tmax=1.0)"
      ],
      "execution_count": 30,
      "outputs": []
    },
    {
      "cell_type": "code",
      "metadata": {
        "id": "w9PcNlIin07B",
        "outputId": "2304fe10-5929-450c-e323-4bc814f0f47f",
        "colab": {
          "base_uri": "https://localhost:8080/",
          "height": 287
        }
      },
      "source": [
        "# plot\n",
        "plt.figure()\n",
        "\n",
        "# Gráfico analítico\n",
        "ta = np.linspace(0, times[iterations])\n",
        "ya = analytical(ta, 0)\n",
        "plt.plot(ta, ya , label='Analytical solution.')\n",
        "\n",
        "# RK1 / 2 grafica \n",
        "plt.plot(times, pos, '-o' , label='RK1/2. %i steps.' % (iterations+1))\n",
        "plt.ylabel(r'$y(t)$')\n",
        "plt.xlabel(r'$t$')\n",
        "plt.legend(loc=\"best\");"
      ],
      "execution_count": 31,
      "outputs": [
        {
          "output_type": "display_data",
          "data": {
            "image/png": "[encoded data removed]",
            "text/plain": [
              "<Figure size 720x288 with 1 Axes>"
            ]
          },
          "metadata": {
            "tags": [],
            "needs_background": "light"
          }
        }
      ]
    },
    {
      "cell_type": "markdown",
      "metadata": {
        "collapsed": true,
        "id": "-zX_ve07n07F"
      },
      "source": [
        "Observamos que el método RK usa 68 pasos siguiendo la curva muy bien, usando un tamaño de paso creciente $ h $ a medida que aumenta $ t $.\n",
        "### Ejemplo 2\n",
        "Ahora queremos resolver el IVP dado por\n",
        "\n",
        "$$\n",
        "y'(t) = \\cos (y (t) \\cdot t ^ 2), \\quad y (1) = 3,\n",
        "$$\n",
        "\n",
        "probar las tres funciones de par RK integradas definidas anteriormente."
      ]
    }
  ]
}