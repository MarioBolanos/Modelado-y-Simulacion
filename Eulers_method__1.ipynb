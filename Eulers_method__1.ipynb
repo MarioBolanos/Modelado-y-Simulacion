{
  "nbformat": 4,
  "nbformat_minor": 0,
  "metadata": {
    "kernelspec": {
      "display_name": "Python 3",
      "language": "python",
      "name": "python3"
    },
    "language_info": {
      "codemirror_mode": {
        "name": "ipython",
        "version": 3
      },
      "file_extension": ".py",
      "mimetype": "text/x-python",
      "name": "python",
      "nbconvert_exporter": "python",
      "pygments_lexer": "ipython3",
      "version": "3.7.3"
    },
    "colab": {
      "name": "Eulers_method_-_implementation-_done.ipynb",
      "provenance": [],
      "include_colab_link": true
    }
  },
  "cells": [
    {
      "cell_type": "markdown",
      "metadata": {
        "id": "view-in-github",
        "colab_type": "text"
      },
      "source": [
        "<a href=\"https://colab.research.google.com/github/MarioBolanos/Modelado-y-Simulacion/blob/master/Eulers_method__1.ipynb\" target=\"_parent\"><img src=\"https://colab.research.google.com/assets/colab-badge.svg\" alt=\"Open In Colab\"/></a>"
      ]
    },
    {
      "cell_type": "markdown",
      "metadata": {
        "id": "q-IksAIPTyde"
      },
      "source": [
        "# Ordinary differential Equations ODE's\n",
        "\\begin{equation}\n",
        "\\frac{dx}{dt}=x; \\qquad x(0)=1 \n",
        "\\end{equation}\n",
        "$x(t)=e^t$\n",
        "\n",
        "$x=e^t$\n",
        "\n",
        "\n"
      ]
    },
    {
      "cell_type": "code",
      "metadata": {
        "id": "yVGZbGspTxI5"
      },
      "source": [
        "import numpy as np\n",
        "import matplotlib.pyplot as plt"
      ],
      "execution_count": 1,
      "outputs": []
    },
    {
      "cell_type": "code",
      "metadata": {
        "id": "javGK_tjVw98",
        "outputId": "9efa6d2d-9d21-45a3-8003-89eb96ec10bf",
        "colab": {
          "base_uri": "https://localhost:8080/",
          "height": 531
        }
      },
      "source": [
        "plt.subplots(figsize=(6,8))\n",
        "t=np.linspace(0,3.2,50)\n",
        "x=np.exp(t)\n",
        "plt.plot(t,x, label='Analytical')\n",
        "plt.xlabel('Time') \n",
        "plt.ylabel('X')\n",
        "plt.title('Euler Method')\n",
        "plt.grid()\n",
        "plt.plot([0,1,2,3,4],[1,2,4,8,16],'ro-',label='Delta=1')\n",
        "plt.plot([0,0.5,1,1.5,2,2.5,3,3.5,],[1,1.5,2.25,3.375,5.0625,7.59375,11.390625,17.0859375],'go-',label='Delta=0.5')\n",
        "\n",
        "plt.legend()"
      ],
      "execution_count": 25,
      "outputs": [
        {
          "output_type": "execute_result",
          "data": {
            "text/plain": [
              "<matplotlib.legend.Legend at 0x7f941df3eb50>"
            ]
          },
          "metadata": {},
          "execution_count": 25
        },
        {
          "output_type": "display_data",
          "data": {
            "image/png": "[encoded data removed]",
            "text/plain": [
              "<Figure size 432x576 with 1 Axes>"
            ]
          },
          "metadata": {
            "needs_background": "light"
          }
        }
      ]
    },
    {
      "cell_type": "markdown",
      "metadata": {
        "id": "7Iz-cLmL5KRf"
      },
      "source": [
        "\n",
        "# Simple implementation of Euler's method\n",
        "___\n",
        "\n"
      ]
    },
    {
      "cell_type": "markdown",
      "metadata": {
        "id": "8Tzw9rck5KRg"
      },
      "source": [
        "## Introduction\n",
        "\n",
        "In all kinds of natural sciences, we encounter differential equations. These equations can be quite complicated to solve analytically, and most times there does not exist an analytical solution. Nonetheless, we still need solve these kinds of equations in order for them to better our understanding of whichever underlying physical system we are working with.\n",
        "\n",
        "For many students, understanding how to solve ordinary differential equations, ODEs for short, can be a time consuming and frustrating process. The purpose of this notebook is to simply demonstrate __how__ an ODE can be solved. Will not focus on the theory behind Euler's method, we will solely focus on the __implementation__ of our ODE solver. Ideally, the reader should also understand the theory and possible pitfalls of using Euler's method, thus we strongly recommend also reading our other module on *[Euler's method](https://github.com/MarioBolanos/Metodo-de-Euler/blob/master/Eulers_method_Colab.ipynb)*  \n",
        "\n",
        " The most crude models for modeling bacterial growth is an excellent choice for demonstrating Euler's method, as the differential equation governing this growth is quite simple."
      ]
    },
    {
      "cell_type": "markdown",
      "metadata": {
        "id": "nSWO1pIt5KRg"
      },
      "source": [
        "## Theory\n",
        "\n",
        "### Population growth\n",
        "Before we start programming, we will give a short introduction to bacterial growth. Bacteria reproduce by binary fission. This is a process where a single bacterial cell splits in two, creating two bacterial cells. The two new bacterial cells, can again split into two, thus creating four bacterial cells. In reality, a single bacterial cell can only split in two a certain amount of times, but in our project we model our growth rate as if this was not the case.\n",
        "\n",
        "We can then write our differential equation as\n",
        "\n",
        "\\begin{equation}\n",
        "\\frac{dy}{dt} = ky(t),\\tag{1}\n",
        "\\end{equation}\n",
        "\n",
        "where $y(t)$ is the population $y$ at time $t$, and $k$ is some constant of proportionality. If we use days as time unit, and assume that the population size at $ t= 1$ is double the population size at the $t=0$\n",
        "\n",
        "\\begin{equation}\n",
        "y(1) = 2y(0) \\tag{2},\n",
        "\\end{equation}\n",
        "\n",
        "we can solve the differential equation analytically. Combining equations $(1)$ and $(2)$, we get\n",
        "\n",
        "\\begin{equation}\n",
        "y(t) = \\mathrm{e}^{kt} = \\mathrm{e}^{\\mathrm{ln}(2)t} = 2^{t}. \\tag{3}\n",
        "\\end{equation}\n",
        "\n",
        "Equation $(3)$ fully describes the population size at time $t$.\n",
        "\n",
        "### Euler's method\n",
        "This paragraph will try to convey the bare minimum of theory regarding Euler's method. However, these paragraphs should be sufficient for the implementation.\n",
        "\n",
        "First of all, when solving differential equations numerically, we need to __discretize__ our time variable $t$. $t$ is no longer a continuous variable, instead we write\n",
        "\n",
        "$$\n",
        "t_n = t_0 + nh, \\quad \\mathrm{with} \\quad n = 0, 1, 2,..., N,\n",
        "$$\n",
        "\n",
        "where $t_0$ is the time value where we know our initial population size, and $h$ is the size between adjacent discrete time values. The relation between $N$ and $h$ is given by\n",
        "\n",
        "$$\n",
        "h = \\frac{t_N - t_0}{N},\n",
        "$$\n",
        "\n",
        "where $N$ is the number of discrete time points we have in our simulation, while $t_N$ and denote the largest time value we have in our simulation.\n",
        "\n",
        "In general, our numerical approximation will be better if we choose a small $h$. Note as the size of $h$ decreases, the number of discrete time values between $t_0$ and $t_N$ increases. We pay for the increased level precision by increasing the number of calculations needed, thus increasing the runtime of our program.\n",
        "\n",
        "A first order differential equation with no explicit time dependence can be written on the the most general form\n",
        "\n",
        "\\begin{equation}\n",
        "\\frac{dy}{dt} = g(y),\n",
        "\\tag{4}\n",
        "\\end{equation}\n",
        "\n",
        "where $g(y)$ is the equation governing the rate of change of our function $y(t)$. In our case, $g(y) = ky$.\n",
        "\n",
        "If we know the population size at $t_0$ and denote this value as $y_0$, we can use Euler's method to find an approximation of the population size at $t_1 = t_0 +h$. The population size at $t_1$ is denoted as $y_1$. This approximation can be calculated by the formula\n",
        "\n",
        "$$\n",
        "y_1 = y_0 + hg(y_0).\n",
        "$$\n",
        "\n",
        "Now, to find the population size $y_2$ at $t_2 = t_1 + h = t_0 + 2h$, we use the same formula, but with $y_1$ instead of $y_0$\n",
        "\n",
        "$$\n",
        "y_2 = y_1 + h g(y_1).\n",
        "$$\n",
        "\n",
        "The most general form of Euler's method is written as\n",
        "\n",
        "$$\n",
        "y_{n+1} = y_n + h g(y_n),\n",
        "\\tag{5}\n",
        "$$\n",
        "where we have the initial condition that\n",
        "\n",
        "$$\n",
        "y(t_0) = y_0.\n",
        "$$\n",
        "\n",
        "Now we can implement Euler's method in Python, and compare our numerical results to the analytical solution given in equation $(3)$.\n",
        "\n"
      ]
    },
    {
      "cell_type": "code",
      "metadata": {
        "id": "Fe7nSseh5KRh"
      },
      "source": [
        "import numpy as np\n",
        "import matplotlib.pyplot as plt"
      ],
      "execution_count": 26,
      "outputs": []
    },
    {
      "cell_type": "code",
      "metadata": {
        "id": "wa45FOJ45KRk"
      },
      "source": [
        "def step_euler(y,h,f):\n",
        "  next_y=y+h*f(y)\n",
        "  return next_y\n",
        "\n",
        "def euler (h,f,y_0,start_t,end_t):\n",
        "  N= int((end_t - start_t)/h)\n",
        "  t_list=np.linspace(start_t,end_t,N+1)\n",
        "\n",
        "  y_list=np.zeros(N+1)\n",
        "\n",
        "  y_list[0]=y_0\n",
        "\n",
        "  for i in range(0,N):\n",
        "    y_list[i+1]=step_euler(y_list[i],h,f)\n",
        "\n",
        "  return t_list,y_list"
      ],
      "execution_count": 27,
      "outputs": []
    },
    {
      "cell_type": "markdown",
      "metadata": {
        "id": "zMYwmku05KRn"
      },
      "source": [
        "Now that we have our functions defined, we can simulate the bacterial population. We only need to define our RHS (Right hand side) of our differential equation, which we in the theory part denoted as $g(y)$."
      ]
    },
    {
      "cell_type": "code",
      "metadata": {
        "id": "hLeWX3aE5KRn",
        "colab": {
          "base_uri": "https://localhost:8080/",
          "height": 283
        },
        "outputId": "e275e51a-408d-407d-d0f5-863cc9ea041f"
      },
      "source": [
        "def g(y):\n",
        "  crecimiento=np.log(2)*y\n",
        "  return crecimiento\n",
        "\n",
        "\n",
        "y_0=1\n",
        "h=0.1\n",
        "t_0=0\n",
        "t_N=10\n",
        "\n",
        "t_list,y_list=euler(h,g,y_0, t_0,t_N)\n",
        "plt.plot(t_list,y_list)\n",
        "\n",
        "plt.plot(t_list, np.power(2,t_list))\n"
      ],
      "execution_count": 31,
      "outputs": [
        {
          "output_type": "execute_result",
          "data": {
            "text/plain": [
              "[<matplotlib.lines.Line2D at 0x7f941de6b8d0>]"
            ]
          },
          "metadata": {},
          "execution_count": 31
        },
        {
          "output_type": "display_data",
          "data": {
            "image/png": "[encoded data removed]",
            "text/plain": [
              "<Figure size 432x288 with 1 Axes>"
            ]
          },
          "metadata": {
            "needs_background": "light"
          }
        }
      ]
    },
    {
      "cell_type": "markdown",
      "metadata": {
        "id": "v2jF5QEM5KRs"
      },
      "source": [
        "We see that our model fares quite well with a step size $h=0.0\n",
        "1$, as it only deviates from the analytical solution by 24 bacteria cells, or 2.4 %. By choosing a smaller $h$, we could increase the precision of our result. For instance, choosing $h=0.001$, we would only get a deviation of 2.4 bacteria cells, or 0.24 %.\n",
        "\n",
        "The reader might wonder why we would want to use Euler's method in this case, as we have a perfectly fine analytical solution. This differential equation has an analytical solution, however, this is not always the case. We only chose this example because can compare our numerical results to the correct answer, and thus validate our procedure. Changing our initial equation for the growth, equation $(5)$, to something called the logistic growth model on the form\n",
        "\n",
        "\\begin{equation}\n",
        "\\frac{dy}{dt} = ky(1 - \\frac{y}{m}),\n",
        "\\tag{6}\n",
        "\\end{equation}\n",
        "\n",
        "where $m$ is a constant, we cannot solve this equation analytically. However, we can still use Euler's method!"
      ]
    },
    {
      "cell_type": "code",
      "metadata": {
        "id": "1Lfe--fj5KRt"
      },
      "source": [
        ""
      ],
      "execution_count": null,
      "outputs": []
    },
    {
      "cell_type": "markdown",
      "metadata": {
        "id": "yYuTx6735KRv"
      },
      "source": [
        "This plot illustrates perfectly the essence of Euler's method, and numerical solutions of ODEs in general. Even though we do not have an analytical solution to validate our results against, we can still extract important information from our numerical results and validate the results through physical arguments. The constant $m$ in $(6)$ is called the carrying capacity, the name manifests itself in our plot, as we observe that the population increases exponentially the first five days, but then it seems to converge towards 100 bacteria after 8 days. Physically, a possible explanation could be that our system only has the resources to maintain a population of 100 bacteria, and that additional bacteria would die.\n",
        "\n",
        "\n",
        "\n",
        "## Conclusion\n",
        "Even though Euler's method is very simple to implement, it is still a powerful tool for solving ODEs. In this notebook we have used Euler's method to solve the differential equation governing population growth in a bacterial colony, but the implementation can also be used to solve any ODE with no explicit time dependence. "
      ]
    },
    {
      "cell_type": "markdown",
      "metadata": {
        "id": "8ynhCaPMn3hW"
      },
      "source": [
        "tarea\n",
        "\n",
        "$$\\dot{x}=sin(x)  \\quad x_0=0,x_0=\\pi/4, x_0=\\pi/2$$"
      ]
    }
  ]
}